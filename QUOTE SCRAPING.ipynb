{
 "cells": [
  {
   "cell_type": "code",
   "execution_count": 3,
   "id": "52086871-b9ab-4811-9a5f-4fbade0d9695",
   "metadata": {},
   "outputs": [],
   "source": [
    "from bs4 import BeautifulSoup\n",
    "import requests\n",
    "import random"
   ]
  },
  {
   "cell_type": "code",
   "execution_count": 5,
   "id": "80fbc17c-85fa-46c6-bd90-55be1ee6ff25",
   "metadata": {},
   "outputs": [
    {
     "name": "stdout",
     "output_type": "stream",
     "text": [
      "Quote: “It is our choices, Harry, that show what we truly are, far more than our abilities.”\n"
     ]
    },
    {
     "name": "stdin",
     "output_type": "stream",
     "text": [
      "Attempt 1: Who is the author?  g\n"
     ]
    },
    {
     "name": "stdout",
     "output_type": "stream",
     "text": [
      "Hint: The author's birthdate is July 31, 1965.\n"
     ]
    },
    {
     "name": "stdin",
     "output_type": "stream",
     "text": [
      "Attempt 2: Who is the author?  k\n"
     ]
    },
    {
     "name": "stdout",
     "output_type": "stream",
     "text": [
      "Hint: The author's first name starts with J.\n"
     ]
    },
    {
     "name": "stdin",
     "output_type": "stream",
     "text": [
      "Attempt 3: Who is the author?  k\n"
     ]
    },
    {
     "name": "stdout",
     "output_type": "stream",
     "text": [
      "Hint: The author's last name starts with R.\n"
     ]
    },
    {
     "name": "stdin",
     "output_type": "stream",
     "text": [
      "Attempt 4: Who is the author?  l\n"
     ]
    },
    {
     "name": "stdout",
     "output_type": "stream",
     "text": [
      "Sorry, the correct answer was J.K. Rowling.\n",
      "Game Over! Your score: 0/1\n"
     ]
    }
   ],
   "source": [
    "def scrape_quotes():\n",
    "    url = 'http://quotes.toscrape.com/'  \n",
    "    response = requests.get(url)\n",
    "    soup = BeautifulSoup(response.text, 'html.parser')\n",
    "\n",
    "    quotes = []\n",
    "\n",
    "    \n",
    "    for quote in soup.find_all('div', class_='quote'):\n",
    "        text = quote.find('span', class_='text').text\n",
    "        author = quote.find('small', class_='author').text\n",
    "\n",
    "        author_url = quote.find('a')['href']\n",
    "        author_bio_url = f\"http://quotes.toscrape.com{author_url}\"\n",
    "        author_bdate = scrape_author_bdate(author_bio_url)\n",
    "\n",
    "       \n",
    "        quotes.append({\n",
    "            'text': text,\n",
    "            'author': author,\n",
    "            'birthdate': author_bdate\n",
    "        })\n",
    "\n",
    "    return quotes\n",
    "\n",
    "\n",
    "def scrape_author_bdate(url):\n",
    "    response = requests.get(url)\n",
    "    soup = BeautifulSoup(response.text, 'html.parser')\n",
    "\n",
    "    birth_date = soup.find('span', class_='author-born-date')\n",
    "    if birth_date:\n",
    "        return birth_date.text\n",
    "    return \"Unknown\"  \n",
    "\n",
    "def play_game_with_four_chances(quotes_with_info):\n",
    "    score = 0\n",
    "    rounds = 1  \n",
    "\n",
    "    for i in range(rounds):\n",
    "        quote = random.choice(quotes_with_info)\n",
    "        print(f\"Quote: {quote['text']}\")\n",
    "\n",
    "        author_name = quote['author']\n",
    "        author_bdate = quote['birthdate']\n",
    "        name_parts = author_name.split()  \n",
    "        \n",
    "        hints = [\n",
    "            f\"Hint: The author's birthdate is {author_bdate}.\",\n",
    "            f\"Hint: The author's first name starts with {name_parts[0][0]}.\",\n",
    "            f\"Hint: The author's last name starts with {name_parts[1][0]}.\" if len(name_parts) > 1 else \"Hint: No last name available.\",\n",
    "            \"Hint: Final attempt, no further hints.\"\n",
    "        ]\n",
    "\n",
    "        attempts = 4  \n",
    "        for attempt in range(attempts):\n",
    "            guess = input(f\"Attempt {attempt + 1}: Who is the author? \")\n",
    "\n",
    "            if guess.lower() == author_name.lower():\n",
    "                print(\"Correct! You guessed the author!\")\n",
    "                score += 1\n",
    "                break\n",
    "            else:\n",
    "                if attempt < attempts - 1:  \n",
    "                    print(hints[attempt])\n",
    "\n",
    "        if guess.lower() != author_name.lower():\n",
    "            print(f\"Sorry, the correct answer was {author_name}.\")\n",
    "\n",
    "    print(f\"Game Over! Your score: {score}/{rounds}\")\n",
    "\n",
    "if __name__ == \"__main__\":\n",
    "    quotes_with_info = scrape_quotes()  \n",
    "    play_game_with_four_chances(quotes_with_info)  \n"
   ]
  },
  {
   "cell_type": "code",
   "execution_count": null,
   "id": "a59e98ee-0a9f-4d02-839d-41d9d02632dc",
   "metadata": {},
   "outputs": [],
   "source": []
  }
 ],
 "metadata": {
  "kernelspec": {
   "display_name": "Python 3 (ipykernel)",
   "language": "python",
   "name": "python3"
  },
  "language_info": {
   "codemirror_mode": {
    "name": "ipython",
    "version": 3
   },
   "file_extension": ".py",
   "mimetype": "text/x-python",
   "name": "python",
   "nbconvert_exporter": "python",
   "pygments_lexer": "ipython3",
   "version": "3.12.4"
  }
 },
 "nbformat": 4,
 "nbformat_minor": 5
}
